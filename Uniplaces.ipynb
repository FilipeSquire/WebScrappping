{
  "nbformat": 4,
  "nbformat_minor": 0,
  "metadata": {
    "colab": {
      "provenance": [],
      "authorship_tag": "ABX9TyNel7k0YzPmRj/SCiygWK80",
      "include_colab_link": true
    },
    "kernelspec": {
      "name": "python3",
      "display_name": "Python 3"
    },
    "language_info": {
      "name": "python"
    }
  },
  "cells": [
    {
      "cell_type": "markdown",
      "metadata": {
        "id": "view-in-github",
        "colab_type": "text"
      },
      "source": [
        "<a href=\"https://colab.research.google.com/github/FilipeSquire/WebScrappping/blob/main/Uniplaces.ipynb\" target=\"_parent\"><img src=\"https://colab.research.google.com/assets/colab-badge.svg\" alt=\"Open In Colab\"/></a>"
      ]
    },
    {
      "cell_type": "code",
      "execution_count": null,
      "metadata": {
        "id": "COkuz03lExFp"
      },
      "outputs": [],
      "source": [
        "uniplaces = pd.DataFrame(columns=['header','price','rooms','size','details','','description','contact'])\n"
      ]
    },
    {
      "cell_type": "code",
      "source": [
        "uniplaces = pd.DataFrame(columns=['occupancy','type','availability','price','bills_info','landlord','link'])\n",
        "\n",
        "#setting up\n",
        "\n",
        "for pag in range(1,7):\n",
        "  doc = requests.get(url.format(n_page=pag))\n",
        "  parsed_doc = BeautifulSoup(doc.content, 'html.parser')\n",
        "  cards = parsed_doc.find_all('div', class_='sc-gafju0-0 jkGRag')\n",
        "\n",
        "\n",
        "  ap = cards[0]\n",
        "\n",
        "\n",
        "  uniplaces['occupancy'] = uniplaces['occupancy'].append(pd.DataFrame(ap.find_all('span', class_='sc-8a44ft-5 jOrvwj'))[0], ignore_index=True)\n",
        "  uniplaces['type'] = uniplaces['type'].append(pd.DataFrame(ap.find_all('h2', class_='sc-8a44ft-1 lmSDwb'))[0], ignore_index=True)\n",
        "  uniplaces['availability'] = uniplaces['availability'].append(pd.DataFrame(ap.find_all('p', class_='sc-8a44ft-2 fMhaQc'))[0], ignore_index=True)\n",
        "  uniplaces['price'] = uniplaces['price'].append(pd.DataFrame(ap.find_all('div', class_='sc-8a44ft-3 doxuAy'))[0], ignore_index=True)\n",
        "  uniplaces['bills_info'] = uniplaces['bills_info'].append(pd.DataFrame(ap.find_all('span', class_='sc-8a44ft-6 cCNkbq'))[0], ignore_index=True)\n",
        "  uniplaces['landlord'] = uniplaces['landlord'].append(pd.DataFrame(ap.find_all('div', class_='sc-1g6rzkm-0 hrwUzT'))[0], ignore_index=True)\n",
        "  uniplaces['link'] = uniplaces['link'].append(pd.DataFrame(ap.find_all('a', class_='sc-8a44ft-0 gPdVZr'))[0], ignore_index=True)\n",
        "  print(f'done {pag}')"
      ],
      "metadata": {
        "id": "yN2PwqNWE0RG"
      },
      "execution_count": null,
      "outputs": []
    },
    {
      "cell_type": "code",
      "source": [
        "url = 'https://www.uniplaces.com/accommodation/lisbon?budget-max=42000&move-in=2023-09-01'\n",
        "doc = requests.get(url.format(n_page=1))\n",
        "parsed_doc = BeautifulSoup(doc.content, 'html.parser')\n",
        "cards = parsed_doc.find_all('div', class_='sc-gafju0-0 jkGRag')\n",
        "\n",
        "ap = cards[0]\n",
        "ap.find_all('a', class_='sc-8a44ft-0 gPdVZr')[0].find('span', class_='sc-8a44ft-5 jOrvwj')"
      ],
      "metadata": {
        "id": "0VzZ8Ur6E3e3"
      },
      "execution_count": null,
      "outputs": []
    },
    {
      "cell_type": "code",
      "source": [
        "result = []\n",
        "\n",
        "url = 'https://www.uniplaces.com/accommodation/lisbon?budget-max=42000&move-in=2024-11-01'\n",
        "\n",
        "for pag in range(1,10):\n",
        "\n",
        "  print(f'Estou na pagina {pag}')\n",
        "  doc = requests.get(url.format(n_page=pag))\n",
        "  parsed_doc = BeautifulSoup(doc.content, 'html.parser')\n",
        "  cards = parsed_doc.find_all('div', class_='sc-gafju0-0 jkGRag')\n",
        "  ap = cards[0]\n",
        "\n",
        "  for x in range(0,len(ap)):\n",
        "    print(f'Estou no card {x}')\n",
        "\n",
        "    try:\n",
        "      occupancy = ap.find_all('a', class_='sc-8a44ft-0 gPdVZr')[x].find('span', class_='sc-8a44ft-5 jOrvwj').text.strip()\n",
        "    except:\n",
        "      occupancy = ap.find_all('a', class_='sc-8a44ft-0 gPdVZr')[x].find('span', class_='sc-8a44ft-5 jOrvwj')\n",
        "\n",
        "    try:\n",
        "      type_flat = ap.find_all('a', class_='sc-8a44ft-0 gPdVZr')[x].find('h2', class_='sc-8a44ft-1 lmSDwb').text.strip()\n",
        "    except:\n",
        "      type_flat = ap.find_all('a', class_='sc-8a44ft-0 gPdVZr')[x].find('h2', class_='sc-8a44ft-1 lmSDwb')\n",
        "\n",
        "    try:\n",
        "      availability = ap.find_all('a', class_='sc-8a44ft-0 gPdVZr')[x].find('p', class_='sc-8a44ft-2 fMhaQc').text.strip()\n",
        "    except:\n",
        "      availability = ap.find_all('a', class_='sc-8a44ft-0 gPdVZr')[x].find('p', class_='sc-8a44ft-2 fMhaQc')\n",
        "\n",
        "    try:\n",
        "      price = ap.find_all('a', class_='sc-8a44ft-0 gPdVZr')[x].find('div', class_='sc-8a44ft-3 doxuAy').text.strip()\n",
        "    except:\n",
        "      price = ap.find_all('a', class_='sc-8a44ft-0 gPdVZr')[x].find('div', class_='sc-8a44ft-3 doxuAy')\n",
        "\n",
        "    try:\n",
        "      bills_info = ap.find_all('a', class_='sc-8a44ft-0 gPdVZr')[x].find('span', class_='sc-8a44ft-6 cCNkbq').text.strip()\n",
        "    except:\n",
        "      bills_info = ap.find_all('a', class_='sc-8a44ft-0 gPdVZr')[x].find('span', class_='sc-8a44ft-6 cCNkbq')\n",
        "\n",
        "    try:\n",
        "      landlord = ap.find_all('a', class_='sc-8a44ft-0 gPdVZr')[x].find('div', class_='sc-1g6rzkm-0 hrwUzT').text.strip()\n",
        "    except:\n",
        "      landlord = ap.find_all('a', class_='sc-8a44ft-0 gPdVZr')[x].find('div', class_='sc-1g6rzkm-0 hrwUzT')\n",
        "\n",
        "    link = ap.find_all('a', class_='sc-8a44ft-0 gPdVZr')[x].get('href')\n",
        "\n",
        "    result_dic = {\n",
        "        'occupancy' : occupancy,\n",
        "        'type_flat': type_flat,\n",
        "        'availability' : availability,\n",
        "        'price' : price,\n",
        "        'bills_info': bills_info,\n",
        "        'landlord': landlord,\n",
        "        'link': link\n",
        "    }\n",
        "\n",
        "    result.append(result_dic)\n",
        "    sleep(1)"
      ],
      "metadata": {
        "id": "fbQBgGJ5E5PV"
      },
      "execution_count": null,
      "outputs": []
    },
    {
      "cell_type": "code",
      "source": [
        "result = pd.DataFrame(result)\n",
        "result"
      ],
      "metadata": {
        "id": "w9TBxk0iE7ve"
      },
      "execution_count": null,
      "outputs": []
    },
    {
      "cell_type": "code",
      "source": [
        "from google.colab import auth\n",
        "import gspread\n",
        "from google.auth import default\n",
        "#autenticating to google\n",
        "auth.authenticate_user()\n",
        "creds, _ = default()\n",
        "gc = gspread.authorize(creds)\n",
        "\n",
        "gsheets = gc.open_by_url('2')\n",
        "sheets = gsheets.get_worksheet(0)\n",
        "\n",
        "sheets.update([result.columns.values.tolist()] + result.values.tolist())"
      ],
      "metadata": {
        "id": "gu1uGOO6E-6G"
      },
      "execution_count": null,
      "outputs": []
    }
  ]
}